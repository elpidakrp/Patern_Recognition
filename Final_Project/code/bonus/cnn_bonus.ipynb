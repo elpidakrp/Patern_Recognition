{
  "nbformat": 4,
  "nbformat_minor": 0,
  "metadata": {
    "colab": {
      "name": "cnn_bonus.ipynb",
      "provenance": [],
      "collapsed_sections": []
    },
    "kernelspec": {
      "name": "python3",
      "display_name": "Python 3"
    },
    "accelerator": "GPU"
  },
  "cells": [
    {
      "cell_type": "code",
      "metadata": {
        "id": "U6874cw-yOBm"
      },
      "source": [
        "# import libraries\r\n",
        "import numpy as np\r\n",
        "import matplotlib.pyplot as plt \r\n",
        "import random\r\n",
        "import urllib\r\n",
        "import cv2\r\n",
        "\r\n",
        "from keras.models import Sequential\r\n",
        "\r\n",
        "from keras.layers.core import Dense, Dropout, Activation\r\n",
        "from keras.utils import np_utils\r\n",
        "from tensorflow.keras import layers\r\n",
        "\r\n",
        "from keras import optimizers\r\n",
        "from keras.callbacks import ModelCheckpoint, EarlyStopping\r\n",
        "from keras.layers import LeakyReLU\r\n",
        "\r\n",
        "import os\r\n",
        "import PIL\r\n",
        "import PIL.Image\r\n",
        "import tensorflow as tf\r\n",
        "import tensorflow_datasets as tfds\r\n",
        "import shutil\r\n",
        "\r\n",
        "import matplotlib.pyplot as plt\r\n",
        "import numpy as np\r\n",
        "import itertools\r\n",
        "\r\n",
        "from keras.layers import Lambda"
      ],
      "execution_count": 1,
      "outputs": []
    },
    {
      "cell_type": "code",
      "metadata": {
        "colab": {
          "base_uri": "https://localhost:8080/"
        },
        "id": "83NsCfq42CbB",
        "outputId": "2c40747e-82cb-49aa-e77c-df8e04558937"
      },
      "source": [
        "from google.colab import drive\r\n",
        "drive.mount('/content/drive')"
      ],
      "execution_count": 2,
      "outputs": [
        {
          "output_type": "stream",
          "text": [
            "Mounted at /content/drive\n"
          ],
          "name": "stdout"
        }
      ]
    },
    {
      "cell_type": "code",
      "metadata": {
        "id": "5fInCI0q2DE6"
      },
      "source": [
        "data_dir = \"/content/drive/My Drive/colab/dataset_bonus\""
      ],
      "execution_count": 6,
      "outputs": []
    },
    {
      "cell_type": "code",
      "metadata": {
        "id": "lv48MHQZ2HA3"
      },
      "source": [
        "img_height = 100\r\n",
        "img_width  = 100\r\n",
        "classes    = ['0','1','2','3','4']\r\n",
        "batch_size = 150"
      ],
      "execution_count": 4,
      "outputs": []
    },
    {
      "cell_type": "code",
      "metadata": {
        "colab": {
          "base_uri": "https://localhost:8080/"
        },
        "id": "UCUGQ6bc2H7u",
        "outputId": "cffba2ce-f8dc-494a-e889-c54c0b495abb"
      },
      "source": [
        "train_ds = tf.keras.preprocessing.image_dataset_from_directory(\r\n",
        "  data_dir,\r\n",
        "  validation_split=0.3,\r\n",
        "  subset=\"training\",\r\n",
        "  seed=123,\r\n",
        "  image_size=(img_height, img_width),\r\n",
        "  batch_size=batch_size,\r\n",
        "  shuffle=\"true\",\r\n",
        "  color_mode=\"grayscale\")"
      ],
      "execution_count": 7,
      "outputs": [
        {
          "output_type": "stream",
          "text": [
            "Found 9316 files belonging to 5 classes.\n",
            "Using 6522 files for training.\n"
          ],
          "name": "stdout"
        }
      ]
    },
    {
      "cell_type": "code",
      "metadata": {
        "id": "hhAx46-o2J52",
        "colab": {
          "base_uri": "https://localhost:8080/"
        },
        "outputId": "e6aca867-2912-46a8-8dd5-261d36bd2981"
      },
      "source": [
        "val_ds = tf.keras.preprocessing.image_dataset_from_directory(\r\n",
        "  data_dir,\r\n",
        "  validation_split=0.2,\r\n",
        "  subset=\"validation\",\r\n",
        "  seed=123,\r\n",
        "  image_size=(img_height, img_width),\r\n",
        "  batch_size=batch_size,\r\n",
        "  shuffle=\"true\",\r\n",
        "  color_mode=\"grayscale\")"
      ],
      "execution_count": 8,
      "outputs": [
        {
          "output_type": "stream",
          "text": [
            "Found 35126 files belonging to 5 classes.\n",
            "Using 7025 files for validation.\n"
          ],
          "name": "stdout"
        }
      ]
    },
    {
      "cell_type": "code",
      "metadata": {
        "id": "iTAtrymR2OGm"
      },
      "source": [
        "num_classes = 5\r\n",
        "\r\n",
        "min=-1\r\n",
        "max=1\r\n",
        "\r\n",
        "filepath = \"weights.best.hdf5\"\r\n",
        "checkpoint = tf.keras.callbacks.ModelCheckpoint(filepath, monitor='val_accuracy', verbose=1, \r\n",
        "                             save_best_only=True, save_weights_only=True, \r\n",
        "                             mode='auto', save_freq='epoch')\r\n",
        "\r\n",
        "early = EarlyStopping(monitor='val_accuracy', min_delta=0, patience=50, \r\n",
        "                      verbose=1, mode='auto')\r\n",
        "\r\n",
        "model = tf.keras.Sequential([\r\n",
        "  layers.BatchNormalization(),\r\n",
        "  layers.Conv2D(64,(1,1),activation=\"relu\"),\r\n",
        "  layers.Conv2D(128,(3,3),activation=\"relu\"),\r\n",
        "  layers.MaxPooling2D(pool_size=(4,4)),\r\n",
        "  layers.BatchNormalization(),\r\n",
        "  layers.Conv2D(256,(1,1),activation=\"relu\"),\r\n",
        "  layers.BatchNormalization(),\r\n",
        "  layers.Conv2D(512,(1,1),activation=\"relu\"),\r\n",
        "  layers.Conv2D(1024,(3,3),activation=\"relu\"),\r\n",
        "  layers.BatchNormalization(),\r\n",
        "  layers.MaxPooling2D(pool_size=(6,6)),\r\n",
        "\r\n",
        "  layers.Flatten(),\r\n",
        "  layers.Dense(1024, activation='relu'),\r\n",
        "  layers.BatchNormalization(),\r\n",
        "  layers.Dense(512, activation='relu'),\r\n",
        "  layers.BatchNormalization(),\r\n",
        "  layers.Dense(256, activation='relu'),\r\n",
        "  layers.BatchNormalization(),\r\n",
        "  layers.Dense(128, activation='relu'),\r\n",
        "  layers.BatchNormalization(),\r\n",
        "  layers.Dense(64, activation='relu'),\r\n",
        "  layers.BatchNormalization(),\r\n",
        "  layers.Dense(32, activation='relu'),\r\n",
        "  layers.BatchNormalization(),\r\n",
        "  layers.Dense(num_classes, activation='softmax')\r\n",
        "])"
      ],
      "execution_count": 9,
      "outputs": []
    },
    {
      "cell_type": "code",
      "metadata": {
        "id": "idOXhMTy2O-c"
      },
      "source": [
        "model.compile(\r\n",
        "  optimizer='adam',\r\n",
        "  loss=tf.losses.SparseCategoricalCrossentropy(from_logits=True),\r\n",
        "  metrics=['accuracy'])"
      ],
      "execution_count": 10,
      "outputs": []
    },
    {
      "cell_type": "code",
      "metadata": {
        "colab": {
          "base_uri": "https://localhost:8080/"
        },
        "id": "XSoWfH2O2Qzo",
        "outputId": "75376a9e-9515-4fea-dae1-f5e8a58c5fee"
      },
      "source": [
        "history = model.fit(\r\n",
        "  train_ds,\r\n",
        "  validation_data=val_ds,\r\n",
        "  epochs=500,\r\n",
        "  callbacks=[checkpoint, early]\r\n",
        ")"
      ],
      "execution_count": 11,
      "outputs": [
        {
          "output_type": "stream",
          "text": [
            "Epoch 1/500\n",
            "44/44 [==============================] - 2970s 61s/step - loss: 1.8298 - accuracy: 0.2698 - val_loss: 2.0656 - val_accuracy: 0.0437\n",
            "\n",
            "Epoch 00001: val_accuracy improved from -inf to 0.04370, saving model to weights.best.hdf5\n",
            "Epoch 2/500\n",
            "44/44 [==============================] - 61s 1s/step - loss: 1.4451 - accuracy: 0.4206 - val_loss: 3.8847 - val_accuracy: 0.0663\n",
            "\n",
            "Epoch 00002: val_accuracy improved from 0.04370 to 0.06633, saving model to weights.best.hdf5\n",
            "Epoch 3/500\n",
            "44/44 [==============================] - 61s 1s/step - loss: 1.2993 - accuracy: 0.5359 - val_loss: 5.2255 - val_accuracy: 0.0682\n",
            "\n",
            "Epoch 00003: val_accuracy improved from 0.06633 to 0.06819, saving model to weights.best.hdf5\n",
            "Epoch 4/500\n",
            "44/44 [==============================] - 61s 1s/step - loss: 1.1846 - accuracy: 0.5711 - val_loss: 2.2986 - val_accuracy: 0.6908\n",
            "\n",
            "Epoch 00004: val_accuracy improved from 0.06819 to 0.69082, saving model to weights.best.hdf5\n",
            "Epoch 5/500\n",
            "44/44 [==============================] - 63s 1s/step - loss: 1.1284 - accuracy: 0.5685 - val_loss: 2.5748 - val_accuracy: 0.1432\n",
            "\n",
            "Epoch 00005: val_accuracy did not improve from 0.69082\n",
            "Epoch 6/500\n",
            "44/44 [==============================] - 62s 1s/step - loss: 1.0916 - accuracy: 0.5708 - val_loss: 2.1154 - val_accuracy: 0.5072\n",
            "\n",
            "Epoch 00006: val_accuracy did not improve from 0.69082\n",
            "Epoch 7/500\n",
            "44/44 [==============================] - 61s 1s/step - loss: 1.0688 - accuracy: 0.5851 - val_loss: 5.3690 - val_accuracy: 0.1209\n",
            "\n",
            "Epoch 00007: val_accuracy did not improve from 0.69082\n",
            "Epoch 8/500\n",
            "44/44 [==============================] - 60s 1s/step - loss: 1.0642 - accuracy: 0.5757 - val_loss: 4.4280 - val_accuracy: 0.1142\n",
            "\n",
            "Epoch 00008: val_accuracy did not improve from 0.69082\n",
            "Epoch 9/500\n",
            "44/44 [==============================] - 60s 1s/step - loss: 1.0363 - accuracy: 0.5807 - val_loss: 3.8353 - val_accuracy: 0.1382\n",
            "\n",
            "Epoch 00009: val_accuracy did not improve from 0.69082\n",
            "Epoch 10/500\n",
            "44/44 [==============================] - 60s 1s/step - loss: 1.0253 - accuracy: 0.5817 - val_loss: 3.4297 - val_accuracy: 0.1418\n",
            "\n",
            "Epoch 00010: val_accuracy did not improve from 0.69082\n",
            "Epoch 11/500\n",
            "44/44 [==============================] - 60s 1s/step - loss: 1.0131 - accuracy: 0.5830 - val_loss: 3.2936 - val_accuracy: 0.1274\n",
            "\n",
            "Epoch 00011: val_accuracy did not improve from 0.69082\n",
            "Epoch 12/500\n",
            "44/44 [==============================] - 60s 1s/step - loss: 1.0127 - accuracy: 0.5847 - val_loss: 3.1952 - val_accuracy: 0.1143\n",
            "\n",
            "Epoch 00012: val_accuracy did not improve from 0.69082\n",
            "Epoch 13/500\n",
            "44/44 [==============================] - 60s 1s/step - loss: 1.0007 - accuracy: 0.5882 - val_loss: 3.8318 - val_accuracy: 0.1340\n",
            "\n",
            "Epoch 00013: val_accuracy did not improve from 0.69082\n",
            "Epoch 14/500\n",
            "44/44 [==============================] - 60s 1s/step - loss: 0.9929 - accuracy: 0.5867 - val_loss: 3.9290 - val_accuracy: 0.1341\n",
            "\n",
            "Epoch 00014: val_accuracy did not improve from 0.69082\n",
            "Epoch 15/500\n",
            "44/44 [==============================] - 60s 1s/step - loss: 0.9526 - accuracy: 0.6005 - val_loss: 4.0946 - val_accuracy: 0.1459\n",
            "\n",
            "Epoch 00015: val_accuracy did not improve from 0.69082\n",
            "Epoch 16/500\n",
            "44/44 [==============================] - 60s 1s/step - loss: 0.9395 - accuracy: 0.6025 - val_loss: 4.0890 - val_accuracy: 0.1458\n",
            "\n",
            "Epoch 00016: val_accuracy did not improve from 0.69082\n",
            "Epoch 17/500\n",
            "44/44 [==============================] - 61s 1s/step - loss: 0.9338 - accuracy: 0.6040 - val_loss: 4.3352 - val_accuracy: 0.1304\n",
            "\n",
            "Epoch 00017: val_accuracy did not improve from 0.69082\n",
            "Epoch 18/500\n",
            "44/44 [==============================] - 60s 1s/step - loss: 0.9109 - accuracy: 0.6223 - val_loss: 4.7550 - val_accuracy: 0.1525\n",
            "\n",
            "Epoch 00018: val_accuracy did not improve from 0.69082\n",
            "Epoch 19/500\n",
            "44/44 [==============================] - 60s 1s/step - loss: 0.9211 - accuracy: 0.6116 - val_loss: 4.7289 - val_accuracy: 0.1210\n",
            "\n",
            "Epoch 00019: val_accuracy did not improve from 0.69082\n",
            "Epoch 20/500\n",
            "44/44 [==============================] - 60s 1s/step - loss: 0.8831 - accuracy: 0.6277 - val_loss: 4.9490 - val_accuracy: 0.1502\n",
            "\n",
            "Epoch 00020: val_accuracy did not improve from 0.69082\n",
            "Epoch 21/500\n",
            "44/44 [==============================] - 60s 1s/step - loss: 0.8732 - accuracy: 0.6262 - val_loss: 4.8315 - val_accuracy: 0.1460\n",
            "\n",
            "Epoch 00021: val_accuracy did not improve from 0.69082\n",
            "Epoch 22/500\n",
            "44/44 [==============================] - 60s 1s/step - loss: 0.8513 - accuracy: 0.6356 - val_loss: 5.5511 - val_accuracy: 0.1186\n",
            "\n",
            "Epoch 00022: val_accuracy did not improve from 0.69082\n",
            "Epoch 23/500\n",
            "44/44 [==============================] - 60s 1s/step - loss: 0.8410 - accuracy: 0.6502 - val_loss: 5.1229 - val_accuracy: 0.1369\n",
            "\n",
            "Epoch 00023: val_accuracy did not improve from 0.69082\n",
            "Epoch 24/500\n",
            "44/44 [==============================] - 60s 1s/step - loss: 0.8504 - accuracy: 0.6370 - val_loss: 5.1619 - val_accuracy: 0.1486\n",
            "\n",
            "Epoch 00024: val_accuracy did not improve from 0.69082\n",
            "Epoch 25/500\n",
            "44/44 [==============================] - 60s 1s/step - loss: 0.8022 - accuracy: 0.6598 - val_loss: 5.7052 - val_accuracy: 0.1300\n",
            "\n",
            "Epoch 00025: val_accuracy did not improve from 0.69082\n",
            "Epoch 26/500\n",
            "44/44 [==============================] - 59s 1s/step - loss: 0.7629 - accuracy: 0.6717 - val_loss: 5.5944 - val_accuracy: 0.1379\n",
            "\n",
            "Epoch 00026: val_accuracy did not improve from 0.69082\n",
            "Epoch 27/500\n",
            "44/44 [==============================] - 61s 1s/step - loss: 0.7612 - accuracy: 0.6677 - val_loss: 5.8805 - val_accuracy: 0.1421\n",
            "\n",
            "Epoch 00027: val_accuracy did not improve from 0.69082\n",
            "Epoch 28/500\n",
            "44/44 [==============================] - 60s 1s/step - loss: 0.7406 - accuracy: 0.6850 - val_loss: 6.0061 - val_accuracy: 0.1415\n",
            "\n",
            "Epoch 00028: val_accuracy did not improve from 0.69082\n",
            "Epoch 29/500\n",
            "44/44 [==============================] - 60s 1s/step - loss: 0.7161 - accuracy: 0.7025 - val_loss: 5.4552 - val_accuracy: 0.1330\n",
            "\n",
            "Epoch 00029: val_accuracy did not improve from 0.69082\n",
            "Epoch 30/500\n",
            "44/44 [==============================] - 60s 1s/step - loss: 0.6982 - accuracy: 0.7096 - val_loss: 5.7991 - val_accuracy: 0.1364\n",
            "\n",
            "Epoch 00030: val_accuracy did not improve from 0.69082\n",
            "Epoch 31/500\n",
            "44/44 [==============================] - 60s 1s/step - loss: 0.6648 - accuracy: 0.7247 - val_loss: 6.1609 - val_accuracy: 0.1506\n",
            "\n",
            "Epoch 00031: val_accuracy did not improve from 0.69082\n",
            "Epoch 32/500\n",
            "44/44 [==============================] - 59s 1s/step - loss: 0.6688 - accuracy: 0.7094 - val_loss: 5.9519 - val_accuracy: 0.1520\n",
            "\n",
            "Epoch 00032: val_accuracy did not improve from 0.69082\n",
            "Epoch 33/500\n",
            "44/44 [==============================] - 60s 1s/step - loss: 0.5926 - accuracy: 0.7494 - val_loss: 6.2259 - val_accuracy: 0.1675\n",
            "\n",
            "Epoch 00033: val_accuracy did not improve from 0.69082\n",
            "Epoch 34/500\n",
            "44/44 [==============================] - 60s 1s/step - loss: 0.5748 - accuracy: 0.7612 - val_loss: 6.3600 - val_accuracy: 0.1535\n",
            "\n",
            "Epoch 00034: val_accuracy did not improve from 0.69082\n",
            "Epoch 35/500\n",
            "44/44 [==============================] - 60s 1s/step - loss: 0.5465 - accuracy: 0.7771 - val_loss: 6.3058 - val_accuracy: 0.1489\n",
            "\n",
            "Epoch 00035: val_accuracy did not improve from 0.69082\n",
            "Epoch 36/500\n",
            "44/44 [==============================] - 60s 1s/step - loss: 0.5089 - accuracy: 0.7923 - val_loss: 6.3929 - val_accuracy: 0.1742\n",
            "\n",
            "Epoch 00036: val_accuracy did not improve from 0.69082\n",
            "Epoch 37/500\n",
            "44/44 [==============================] - 59s 1s/step - loss: 0.5383 - accuracy: 0.7814 - val_loss: 6.6383 - val_accuracy: 0.1354\n",
            "\n",
            "Epoch 00037: val_accuracy did not improve from 0.69082\n",
            "Epoch 38/500\n",
            "44/44 [==============================] - 60s 1s/step - loss: 0.4945 - accuracy: 0.7982 - val_loss: 6.7080 - val_accuracy: 0.1792\n",
            "\n",
            "Epoch 00038: val_accuracy did not improve from 0.69082\n",
            "Epoch 39/500\n",
            "44/44 [==============================] - 59s 1s/step - loss: 0.4214 - accuracy: 0.8346 - val_loss: 7.3894 - val_accuracy: 0.1720\n",
            "\n",
            "Epoch 00039: val_accuracy did not improve from 0.69082\n",
            "Epoch 40/500\n",
            "44/44 [==============================] - 59s 1s/step - loss: 0.4343 - accuracy: 0.8232 - val_loss: 7.3020 - val_accuracy: 0.1811\n",
            "\n",
            "Epoch 00040: val_accuracy did not improve from 0.69082\n",
            "Epoch 41/500\n",
            "44/44 [==============================] - 59s 1s/step - loss: 0.3717 - accuracy: 0.8580 - val_loss: 7.0712 - val_accuracy: 0.1853\n",
            "\n",
            "Epoch 00041: val_accuracy did not improve from 0.69082\n",
            "Epoch 42/500\n",
            "44/44 [==============================] - 60s 1s/step - loss: 0.3539 - accuracy: 0.8588 - val_loss: 7.7139 - val_accuracy: 0.1808\n",
            "\n",
            "Epoch 00042: val_accuracy did not improve from 0.69082\n",
            "Epoch 43/500\n",
            "44/44 [==============================] - 59s 1s/step - loss: 0.2864 - accuracy: 0.8944 - val_loss: 8.4768 - val_accuracy: 0.1737\n",
            "\n",
            "Epoch 00043: val_accuracy did not improve from 0.69082\n",
            "Epoch 44/500\n",
            "44/44 [==============================] - 59s 1s/step - loss: 0.3139 - accuracy: 0.8800 - val_loss: 7.1919 - val_accuracy: 0.1715\n",
            "\n",
            "Epoch 00044: val_accuracy did not improve from 0.69082\n",
            "Epoch 45/500\n",
            "44/44 [==============================] - 59s 1s/step - loss: 0.2745 - accuracy: 0.8954 - val_loss: 8.3500 - val_accuracy: 0.1942\n",
            "\n",
            "Epoch 00045: val_accuracy did not improve from 0.69082\n",
            "Epoch 46/500\n",
            "44/44 [==============================] - 58s 1s/step - loss: 0.2818 - accuracy: 0.8981 - val_loss: 7.6126 - val_accuracy: 0.1744\n",
            "\n",
            "Epoch 00046: val_accuracy did not improve from 0.69082\n",
            "Epoch 47/500\n",
            "44/44 [==============================] - 59s 1s/step - loss: 0.2375 - accuracy: 0.9076 - val_loss: 8.4746 - val_accuracy: 0.1731\n",
            "\n",
            "Epoch 00047: val_accuracy did not improve from 0.69082\n",
            "Epoch 48/500\n",
            "44/44 [==============================] - 59s 1s/step - loss: 0.2141 - accuracy: 0.9217 - val_loss: 7.3622 - val_accuracy: 0.1964\n",
            "\n",
            "Epoch 00048: val_accuracy did not improve from 0.69082\n",
            "Epoch 49/500\n",
            "44/44 [==============================] - 58s 1s/step - loss: 0.2007 - accuracy: 0.9271 - val_loss: 7.8888 - val_accuracy: 0.1879\n",
            "\n",
            "Epoch 00049: val_accuracy did not improve from 0.69082\n",
            "Epoch 50/500\n",
            "44/44 [==============================] - 59s 1s/step - loss: 0.2058 - accuracy: 0.9278 - val_loss: 7.8405 - val_accuracy: 0.2095\n",
            "\n",
            "Epoch 00050: val_accuracy did not improve from 0.69082\n",
            "Epoch 51/500\n",
            "44/44 [==============================] - 58s 1s/step - loss: 0.1526 - accuracy: 0.9414 - val_loss: 8.5699 - val_accuracy: 0.1870\n",
            "\n",
            "Epoch 00051: val_accuracy did not improve from 0.69082\n",
            "Epoch 52/500\n",
            "44/44 [==============================] - 59s 1s/step - loss: 0.1474 - accuracy: 0.9472 - val_loss: 8.0658 - val_accuracy: 0.2063\n",
            "\n",
            "Epoch 00052: val_accuracy did not improve from 0.69082\n",
            "Epoch 53/500\n",
            "44/44 [==============================] - 58s 1s/step - loss: 0.1502 - accuracy: 0.9451 - val_loss: 7.9549 - val_accuracy: 0.2034\n",
            "\n",
            "Epoch 00053: val_accuracy did not improve from 0.69082\n",
            "Epoch 54/500\n",
            "44/44 [==============================] - 59s 1s/step - loss: 0.1554 - accuracy: 0.9461 - val_loss: 8.1317 - val_accuracy: 0.1929\n",
            "\n",
            "Epoch 00054: val_accuracy did not improve from 0.69082\n",
            "Epoch 00054: early stopping\n"
          ],
          "name": "stdout"
        }
      ]
    },
    {
      "cell_type": "code",
      "metadata": {
        "id": "xZneQUr62WBu",
        "colab": {
          "base_uri": "https://localhost:8080/"
        },
        "outputId": "e0974139-b0f5-4387-ac66-291d1ad027a1"
      },
      "source": [
        "test_ds = tf.keras.preprocessing.image_dataset_from_directory(\r\n",
        "  data_dir,\r\n",
        "  validation_split=0.1, \r\n",
        "  subset=\"validation\",\r\n",
        "  seed=123,\r\n",
        "  image_size=(img_height, img_width),\r\n",
        "  batch_size=batch_size,\r\n",
        "  shuffle=\"true\",\r\n",
        "  color_mode=\"grayscale\")\r\n",
        "\r\n",
        "model.load_weights(\"weights.best.hdf5\")\r\n",
        "score = model.evaluate(test_ds)\r\n",
        "print('Test score: ', score[0])\r\n",
        "print('Test accuracy: ', score[1])"
      ],
      "execution_count": 12,
      "outputs": [
        {
          "output_type": "stream",
          "text": [
            "Found 35126 files belonging to 5 classes.\n",
            "Using 3512 files for validation.\n",
            "24/24 [==============================] - 15s 500ms/step - loss: 2.2512 - accuracy: 0.6976\n",
            "Test score:  2.2511937618255615\n",
            "Test accuracy:  0.6976081728935242\n"
          ],
          "name": "stdout"
        }
      ]
    },
    {
      "cell_type": "code",
      "metadata": {
        "id": "5-gz3nLnO-us",
        "colab": {
          "base_uri": "https://localhost:8080/"
        },
        "outputId": "600ff80f-5a02-418f-946a-9ab3e8306249"
      },
      "source": [
        "model.summary()"
      ],
      "execution_count": 13,
      "outputs": [
        {
          "output_type": "stream",
          "text": [
            "Model: \"sequential\"\n",
            "_________________________________________________________________\n",
            "Layer (type)                 Output Shape              Param #   \n",
            "=================================================================\n",
            "batch_normalization (BatchNo (None, 100, 100, 1)       4         \n",
            "_________________________________________________________________\n",
            "conv2d (Conv2D)              (None, 100, 100, 64)      128       \n",
            "_________________________________________________________________\n",
            "conv2d_1 (Conv2D)            (None, 98, 98, 128)       73856     \n",
            "_________________________________________________________________\n",
            "max_pooling2d (MaxPooling2D) (None, 24, 24, 128)       0         \n",
            "_________________________________________________________________\n",
            "batch_normalization_1 (Batch (None, 24, 24, 128)       512       \n",
            "_________________________________________________________________\n",
            "conv2d_2 (Conv2D)            (None, 24, 24, 256)       33024     \n",
            "_________________________________________________________________\n",
            "batch_normalization_2 (Batch (None, 24, 24, 256)       1024      \n",
            "_________________________________________________________________\n",
            "conv2d_3 (Conv2D)            (None, 24, 24, 512)       131584    \n",
            "_________________________________________________________________\n",
            "conv2d_4 (Conv2D)            (None, 22, 22, 1024)      4719616   \n",
            "_________________________________________________________________\n",
            "batch_normalization_3 (Batch (None, 22, 22, 1024)      4096      \n",
            "_________________________________________________________________\n",
            "max_pooling2d_1 (MaxPooling2 (None, 3, 3, 1024)        0         \n",
            "_________________________________________________________________\n",
            "flatten (Flatten)            (None, 9216)              0         \n",
            "_________________________________________________________________\n",
            "dense (Dense)                (None, 1024)              9438208   \n",
            "_________________________________________________________________\n",
            "batch_normalization_4 (Batch (None, 1024)              4096      \n",
            "_________________________________________________________________\n",
            "dense_1 (Dense)              (None, 512)               524800    \n",
            "_________________________________________________________________\n",
            "batch_normalization_5 (Batch (None, 512)               2048      \n",
            "_________________________________________________________________\n",
            "dense_2 (Dense)              (None, 256)               131328    \n",
            "_________________________________________________________________\n",
            "batch_normalization_6 (Batch (None, 256)               1024      \n",
            "_________________________________________________________________\n",
            "dense_3 (Dense)              (None, 128)               32896     \n",
            "_________________________________________________________________\n",
            "batch_normalization_7 (Batch (None, 128)               512       \n",
            "_________________________________________________________________\n",
            "dense_4 (Dense)              (None, 64)                8256      \n",
            "_________________________________________________________________\n",
            "batch_normalization_8 (Batch (None, 64)                256       \n",
            "_________________________________________________________________\n",
            "dense_5 (Dense)              (None, 32)                2080      \n",
            "_________________________________________________________________\n",
            "batch_normalization_9 (Batch (None, 32)                128       \n",
            "_________________________________________________________________\n",
            "dense_6 (Dense)              (None, 5)                 165       \n",
            "=================================================================\n",
            "Total params: 15,109,641\n",
            "Trainable params: 15,102,791\n",
            "Non-trainable params: 6,850\n",
            "_________________________________________________________________\n"
          ],
          "name": "stdout"
        }
      ]
    },
    {
      "cell_type": "code",
      "metadata": {
        "id": "dGece2yt89M0",
        "colab": {
          "base_uri": "https://localhost:8080/"
        },
        "outputId": "77092933-3018-47ec-cfe6-9b69d8feb7bc"
      },
      "source": [
        "from sklearn import metrics\r\n",
        "from sklearn.metrics import plot_confusion_matrix\r\n",
        "import matplotlib.pyplot as plt\r\n",
        "\r\n",
        "predictions = np.array([])\r\n",
        "true_labels =  np.array([])\r\n",
        "for x, y in test_ds:\r\n",
        "  predictions = np.concatenate([predictions, model.predict_classes(x)])\r\n",
        "  true_labels = np.concatenate([true_labels, y.numpy()])\r\n",
        "\r\n",
        "precisions, recall, f1_score, samples_per_class = metrics.precision_recall_fscore_support(true_labels, predictions,labels = [0,1,2,3,4,5,6,7,8,9])\r\n",
        "confusion_matrix = metrics.confusion_matrix(true_labels, predictions)\r\n",
        "print('Precision :',precisions,'\\nRecall :',recall,'\\nF1_Score :',f1_score,'\\nSamples per class :',samples_per_class)"
      ],
      "execution_count": 14,
      "outputs": [
        {
          "output_type": "stream",
          "text": [
            "/usr/local/lib/python3.7/dist-packages/tensorflow/python/keras/engine/sequential.py:450: UserWarning: `model.predict_classes()` is deprecated and will be removed after 2021-01-01. Please use instead:* `np.argmax(model.predict(x), axis=-1)`,   if your model does multi-class classification   (e.g. if it uses a `softmax` last-layer activation).* `(model.predict(x) > 0.5).astype(\"int32\")`,   if your model does binary classification   (e.g. if it uses a `sigmoid` last-layer activation).\n",
            "  warnings.warn('`model.predict_classes()` is deprecated and '\n"
          ],
          "name": "stderr"
        },
        {
          "output_type": "stream",
          "text": [
            "Precision : [0.74139507 0.06164384 0.08433735 0.         0.         0.\n",
            " 0.         0.         0.         0.        ] \n",
            "Recall : [0.93078394 0.03947368 0.01369863 0.         0.         0.\n",
            " 0.         0.         0.         0.        ] \n",
            "F1_Score : [0.82536453 0.04812834 0.02356902 0.         0.         0.\n",
            " 0.         0.         0.         0.        ] \n",
            "Samples per class : [2615  228  511   81   77    0    0    0    0    0]\n"
          ],
          "name": "stdout"
        },
        {
          "output_type": "stream",
          "text": [
            "/usr/local/lib/python3.7/dist-packages/sklearn/metrics/_classification.py:1272: UndefinedMetricWarning: Precision and F-score are ill-defined and being set to 0.0 in labels with no predicted samples. Use `zero_division` parameter to control this behavior.\n",
            "  _warn_prf(average, modifier, msg_start, len(result))\n",
            "/usr/local/lib/python3.7/dist-packages/sklearn/metrics/_classification.py:1272: UndefinedMetricWarning: Recall and F-score are ill-defined and being set to 0.0 in labels with no true samples. Use `zero_division` parameter to control this behavior.\n",
            "  _warn_prf(average, modifier, msg_start, len(result))\n"
          ],
          "name": "stderr"
        }
      ]
    },
    {
      "cell_type": "code",
      "metadata": {
        "id": "fhk36Jsd9Lr4",
        "colab": {
          "base_uri": "https://localhost:8080/",
          "height": 467
        },
        "outputId": "d76c8713-8ba6-4db7-8579-526ab4795755"
      },
      "source": [
        "target_names=['0','1','2','3','4']\r\n",
        "# plot_confusion_matrix(confusion_matrix, target_names, title='Confusion matrix', cmap=None, normalize=None)\r\n",
        "accuracy = np.trace(confusion_matrix) / np.sum(confusion_matrix).astype('float')\r\n",
        "misclass = 1 - accuracy\r\n",
        "cmap = plt.get_cmap('Blues')\r\n",
        "\r\n",
        "plt.figure(figsize=(8, 6))\r\n",
        "plt.imshow(confusion_matrix, interpolation='nearest', cmap=cmap)\r\n",
        "plt.title('Confusion Matrix')\r\n",
        "plt.colorbar()\r\n",
        "\r\n",
        "tick_marks = np.arange(len(target_names))\r\n",
        "plt.xticks(tick_marks, target_names, rotation=45)\r\n",
        "plt.yticks(tick_marks, target_names)\r\n",
        "\r\n",
        "thresh = confusion_matrix.max() / 2\r\n",
        "for i, j in itertools.product(range(confusion_matrix.shape[0]), range(confusion_matrix.shape[1])):\r\n",
        "    plt.text(j, i, \"{:,}\".format(confusion_matrix[i, j]),\r\n",
        "              horizontalalignment=\"center\",\r\n",
        "              color=\"white\" if confusion_matrix[i, j] > thresh else \"black\")\r\n",
        "\r\n",
        "plt.tight_layout()\r\n",
        "plt.ylabel('Labels')\r\n",
        "plt.xlabel('Predicted Labels\\naccuracy: {:0.4f} - misclass: {:0.4f}'.format(accuracy, misclass))\r\n",
        "plt.show()"
      ],
      "execution_count": 18,
      "outputs": [
        {
          "output_type": "display_data",
          "data": {
            "image/png": "[encoded data removed]",
            "text/plain": [
              "<Figure size 576x432 with 2 Axes>"
            ]
          },
          "metadata": {
            "tags": [],
            "needs_background": "light"
          }
        }
      ]
    },
    {
      "cell_type": "code",
      "metadata": {
        "id": "YxhkvyrB9VNg",
        "colab": {
          "base_uri": "https://localhost:8080/",
          "height": 295
        },
        "outputId": "599d63a5-648b-496b-defa-3f5555e70ffd"
      },
      "source": [
        "epochs = range(0,len(history.history['loss']))\r\n",
        "loss_train = history.history['loss']\r\n",
        "loss_val   = history.history['val_loss']\r\n",
        "plt.plot(epochs, loss_train, 'g', label='Training loss')\r\n",
        "plt.plot(epochs, loss_val, 'r', label='Validation loss')\r\n",
        "plt.title('Training/Validation losses')\r\n",
        "plt.xlabel('Epoch')\r\n",
        "plt.ylabel('Loss')\r\n",
        "plt.legend()\r\n",
        "plt.show()"
      ],
      "execution_count": 16,
      "outputs": [
        {
          "output_type": "display_data",
          "data": {
            "image/png": "[encoded data removed]",
            "text/plain": [
              "<Figure size 432x288 with 1 Axes>"
            ]
          },
          "metadata": {
            "tags": [],
            "needs_background": "light"
          }
        }
      ]
    },
    {
      "cell_type": "code",
      "metadata": {
        "id": "RKYYeUBmR7Jn",
        "colab": {
          "base_uri": "https://localhost:8080/",
          "height": 295
        },
        "outputId": "358b08e8-7160-42e7-d76b-c4aeed3e206f"
      },
      "source": [
        "epochs = range(0,len(history.history['accuracy']))\r\n",
        "acc_train = history.history['accuracy']\r\n",
        "acc_val   = history.history['val_accuracy']\r\n",
        "plt.plot(epochs, acc_train, 'g', label='Training accuracy')\r\n",
        "plt.plot(epochs, acc_val, 'r', label='Validation accuracy')\r\n",
        "plt.title('Training/Validation accuracy')\r\n",
        "plt.xlabel('Epoch')\r\n",
        "plt.ylabel('accuracy')\r\n",
        "plt.legend()\r\n",
        "plt.show()"
      ],
      "execution_count": 17,
      "outputs": [
        {
          "output_type": "display_data",
          "data": {
            "image/png": "[encoded data removed]",
            "text/plain": [
              "<Figure size 432x288 with 1 Axes>"
            ]
          },
          "metadata": {
            "tags": [],
            "needs_background": "light"
          }
        }
      ]
    }
  ]
}