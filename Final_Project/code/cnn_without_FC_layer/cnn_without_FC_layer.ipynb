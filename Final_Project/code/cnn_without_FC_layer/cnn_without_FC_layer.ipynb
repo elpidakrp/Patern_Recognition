{
  "nbformat": 4,
  "nbformat_minor": 0,
  "metadata": {
    "colab": {
      "name": "cnn_without_FC_layer.ipynb",
      "provenance": [],
      "collapsed_sections": []
    },
    "kernelspec": {
      "name": "python3",
      "display_name": "Python 3"
    },
    "accelerator": "GPU"
  },
  "cells": [
    {
      "cell_type": "code",
      "metadata": {
        "id": "U6874cw-yOBm"
      },
      "source": [
        "# import libraries\r\n",
        "import numpy as np\r\n",
        "import matplotlib.pyplot as plt \r\n",
        "import random\r\n",
        "import urllib\r\n",
        "import cv2\r\n",
        "\r\n",
        "from keras.models import Sequential\r\n",
        "\r\n",
        "from keras.layers.core import Dense, Dropout, Activation\r\n",
        "from keras.utils import np_utils\r\n",
        "from tensorflow.keras import layers\r\n",
        "\r\n",
        "from keras import optimizers\r\n",
        "from keras.callbacks import ModelCheckpoint, EarlyStopping\r\n",
        "from keras.layers import LeakyReLU\r\n",
        "\r\n",
        "import os\r\n",
        "import PIL\r\n",
        "import PIL.Image\r\n",
        "import tensorflow as tf\r\n",
        "import tensorflow_datasets as tfds\r\n",
        "import shutil\r\n",
        "\r\n",
        "import matplotlib.pyplot as plt\r\n",
        "import numpy as np\r\n",
        "import itertools\r\n",
        "\r\n",
        "from keras.layers import Lambda"
      ],
      "execution_count": null,
      "outputs": []
    },
    {
      "cell_type": "code",
      "metadata": {
        "colab": {
          "base_uri": "https://localhost:8080/"
        },
        "id": "83NsCfq42CbB",
        "outputId": "8d9e4654-431e-4465-ddbe-30d9e6226be3"
      },
      "source": [
        "from google.colab import drive\r\n",
        "drive.mount('/content/drive')"
      ],
      "execution_count": null,
      "outputs": [
        {
          "output_type": "stream",
          "text": [
            "Drive already mounted at /content/drive; to attempt to forcibly remount, call drive.mount(\"/content/drive\", force_remount=True).\n"
          ],
          "name": "stdout"
        }
      ]
    },
    {
      "cell_type": "code",
      "metadata": {
        "id": "5fInCI0q2DE6"
      },
      "source": [
        "data_dir = \"/content/drive/My Drive/Colab Notebooks/erg8_patern_recognition_2021/Dataset\""
      ],
      "execution_count": null,
      "outputs": []
    },
    {
      "cell_type": "code",
      "metadata": {
        "id": "lv48MHQZ2HA3"
      },
      "source": [
        "img_height = 100\r\n",
        "img_width  = 100\r\n",
        "classes    = ['0','1','2','3','4','5','6','7','8','9']\r\n",
        "batch_size = 150"
      ],
      "execution_count": null,
      "outputs": []
    },
    {
      "cell_type": "code",
      "metadata": {
        "colab": {
          "base_uri": "https://localhost:8080/"
        },
        "id": "UCUGQ6bc2H7u",
        "outputId": "a57e66e4-caf8-4fd5-b353-9cd4543747ad"
      },
      "source": [
        "train_ds = tf.keras.preprocessing.image_dataset_from_directory(\r\n",
        "  data_dir,\r\n",
        "  validation_split=0.3,\r\n",
        "  subset=\"training\",\r\n",
        "  seed=123,\r\n",
        "  image_size=(img_height, img_width),\r\n",
        "  batch_size=batch_size,\r\n",
        "  shuffle=\"true\",\r\n",
        "  color_mode=\"grayscale\")"
      ],
      "execution_count": null,
      "outputs": [
        {
          "output_type": "stream",
          "text": [
            "Found 2059 files belonging to 10 classes.\n",
            "Using 1442 files for training.\n"
          ],
          "name": "stdout"
        }
      ]
    },
    {
      "cell_type": "code",
      "metadata": {
        "colab": {
          "base_uri": "https://localhost:8080/"
        },
        "id": "hhAx46-o2J52",
        "outputId": "72f4a79f-e6ab-4f69-a10c-ae8f2bdb4434"
      },
      "source": [
        "val_ds = tf.keras.preprocessing.image_dataset_from_directory(\r\n",
        "  data_dir,\r\n",
        "  validation_split=0.2,\r\n",
        "  subset=\"validation\",\r\n",
        "  seed=123,\r\n",
        "  image_size=(img_height, img_width),\r\n",
        "  batch_size=batch_size,\r\n",
        "  shuffle=\"true\",\r\n",
        "  color_mode=\"grayscale\")"
      ],
      "execution_count": null,
      "outputs": [
        {
          "output_type": "stream",
          "text": [
            "Found 2059 files belonging to 10 classes.\n",
            "Using 411 files for validation.\n"
          ],
          "name": "stdout"
        }
      ]
    },
    {
      "cell_type": "code",
      "metadata": {
        "id": "iTAtrymR2OGm"
      },
      "source": [
        "num_classes = 10\r\n",
        "\r\n",
        "min=-1\r\n",
        "max=1\r\n",
        "\r\n",
        "filepath = \"weights.best.hdf5\"\r\n",
        "checkpoint = tf.keras.callbacks.ModelCheckpoint(filepath, monitor='val_accuracy', verbose=1, \r\n",
        "                             save_best_only=True, save_weights_only=True, \r\n",
        "                             mode='auto', save_freq='epoch')\r\n",
        "\r\n",
        "early = EarlyStopping(monitor='val_accuracy', min_delta=0, patience=50, \r\n",
        "                      verbose=1, mode='auto')\r\n",
        "model = tf.keras.Sequential([\r\n",
        "  layers.BatchNormalization(),\r\n",
        "  layers.Conv2D(64,(1,1),activation=\"relu\"),\r\n",
        "  layers.Conv2D(128,(3,3),activation=\"relu\"),\r\n",
        "  layers.MaxPooling2D(pool_size=(4,4)),\r\n",
        "  layers.BatchNormalization(),\r\n",
        "  layers.Conv2D(256,(1,1),activation=\"relu\"),\r\n",
        "  layers.BatchNormalization(),\r\n",
        "  layers.Conv2D(512,(1,1),activation=\"relu\"),\r\n",
        "  layers.Conv2D(1024,(3,3),activation=\"relu\"),\r\n",
        "  layers.BatchNormalization(),\r\n",
        "  layers.Conv2D(10,(1,1),activation=\"softmax\"),\r\n",
        "  layers.GlobalMaxPooling2D()\r\n",
        "])"
      ],
      "execution_count": null,
      "outputs": []
    },
    {
      "cell_type": "code",
      "metadata": {
        "id": "idOXhMTy2O-c"
      },
      "source": [
        "model.compile(\r\n",
        "  optimizer='adam',\r\n",
        "  loss=tf.losses.SparseCategoricalCrossentropy(from_logits=True),\r\n",
        "  metrics=['accuracy'])"
      ],
      "execution_count": null,
      "outputs": []
    },
    {
      "cell_type": "code",
      "metadata": {
        "colab": {
          "base_uri": "https://localhost:8080/"
        },
        "id": "XSoWfH2O2Qzo",
        "outputId": "a9f3c655-c166-4d15-9038-b9e6479b27f1"
      },
      "source": [
        "history = model.fit(\r\n",
        "  train_ds,\r\n",
        "  validation_data=val_ds,\r\n",
        "  epochs=500,\r\n",
        "  callbacks=[checkpoint, early]\r\n",
        ")"
      ],
      "execution_count": null,
      "outputs": [
        {
          "output_type": "stream",
          "text": [
            "Epoch 1/500\n",
            "10/10 [==============================] - 837s 23s/step - loss: 2.2989 - accuracy: 0.1008 - val_loss: 2.4033 - val_accuracy: 0.0900\n",
            "\n",
            "Epoch 00001: val_accuracy improved from -inf to 0.09002, saving model to weights.best.hdf5\n",
            "Epoch 2/500\n",
            "10/10 [==============================] - 7s 517ms/step - loss: 2.2267 - accuracy: 0.1127 - val_loss: 2.3787 - val_accuracy: 0.0900\n",
            "\n",
            "Epoch 00002: val_accuracy did not improve from 0.09002\n",
            "Epoch 3/500\n",
            "10/10 [==============================] - 7s 518ms/step - loss: 2.1881 - accuracy: 0.1064 - val_loss: 2.4081 - val_accuracy: 0.0852\n",
            "\n",
            "Epoch 00003: val_accuracy did not improve from 0.09002\n",
            "Epoch 4/500\n",
            "10/10 [==============================] - 7s 516ms/step - loss: 2.1542 - accuracy: 0.1118 - val_loss: 2.4235 - val_accuracy: 0.0949\n",
            "\n",
            "Epoch 00004: val_accuracy improved from 0.09002 to 0.09489, saving model to weights.best.hdf5\n",
            "Epoch 5/500\n",
            "10/10 [==============================] - 7s 519ms/step - loss: 2.1205 - accuracy: 0.1041 - val_loss: 2.4198 - val_accuracy: 0.0900\n",
            "\n",
            "Epoch 00005: val_accuracy did not improve from 0.09489\n",
            "Epoch 6/500\n",
            "10/10 [==============================] - 7s 519ms/step - loss: 2.1004 - accuracy: 0.1053 - val_loss: 2.4102 - val_accuracy: 0.1314\n",
            "\n",
            "Epoch 00006: val_accuracy improved from 0.09489 to 0.13139, saving model to weights.best.hdf5\n",
            "Epoch 7/500\n",
            "10/10 [==============================] - 7s 529ms/step - loss: 2.1071 - accuracy: 0.1059 - val_loss: 2.3986 - val_accuracy: 0.0949\n",
            "\n",
            "Epoch 00007: val_accuracy did not improve from 0.13139\n",
            "Epoch 8/500\n",
            "10/10 [==============================] - 7s 527ms/step - loss: 2.0901 - accuracy: 0.1093 - val_loss: 2.3905 - val_accuracy: 0.1046\n",
            "\n",
            "Epoch 00008: val_accuracy did not improve from 0.13139\n",
            "Epoch 9/500\n",
            "10/10 [==============================] - 7s 528ms/step - loss: 2.0823 - accuracy: 0.1201 - val_loss: 2.3593 - val_accuracy: 0.0998\n",
            "\n",
            "Epoch 00009: val_accuracy did not improve from 0.13139\n",
            "Epoch 10/500\n",
            "10/10 [==============================] - 7s 524ms/step - loss: 2.0822 - accuracy: 0.1071 - val_loss: 2.3498 - val_accuracy: 0.0876\n",
            "\n",
            "Epoch 00010: val_accuracy did not improve from 0.13139\n",
            "Epoch 11/500\n",
            "10/10 [==============================] - 7s 526ms/step - loss: 2.0608 - accuracy: 0.1309 - val_loss: 2.3575 - val_accuracy: 0.0998\n",
            "\n",
            "Epoch 00011: val_accuracy did not improve from 0.13139\n",
            "Epoch 12/500\n",
            "10/10 [==============================] - 7s 531ms/step - loss: 2.0626 - accuracy: 0.1061 - val_loss: 2.3613 - val_accuracy: 0.0949\n",
            "\n",
            "Epoch 00012: val_accuracy did not improve from 0.13139\n",
            "Epoch 13/500\n",
            "10/10 [==============================] - 7s 530ms/step - loss: 2.0518 - accuracy: 0.1200 - val_loss: 2.3563 - val_accuracy: 0.0876\n",
            "\n",
            "Epoch 00013: val_accuracy did not improve from 0.13139\n",
            "Epoch 14/500\n",
            "10/10 [==============================] - 7s 528ms/step - loss: 2.0535 - accuracy: 0.1181 - val_loss: 2.3550 - val_accuracy: 0.0900\n",
            "\n",
            "Epoch 00014: val_accuracy did not improve from 0.13139\n",
            "Epoch 15/500\n",
            "10/10 [==============================] - 7s 533ms/step - loss: 2.0429 - accuracy: 0.1037 - val_loss: 2.3553 - val_accuracy: 0.1241\n",
            "\n",
            "Epoch 00015: val_accuracy did not improve from 0.13139\n",
            "Epoch 16/500\n",
            "10/10 [==============================] - 7s 527ms/step - loss: 2.0365 - accuracy: 0.1456 - val_loss: 2.3684 - val_accuracy: 0.1387\n",
            "\n",
            "Epoch 00016: val_accuracy improved from 0.13139 to 0.13869, saving model to weights.best.hdf5\n",
            "Epoch 17/500\n",
            "10/10 [==============================] - 7s 531ms/step - loss: 2.0344 - accuracy: 0.1235 - val_loss: 2.3614 - val_accuracy: 0.1436\n",
            "\n",
            "Epoch 00017: val_accuracy improved from 0.13869 to 0.14355, saving model to weights.best.hdf5\n",
            "Epoch 18/500\n",
            "10/10 [==============================] - 7s 536ms/step - loss: 2.0457 - accuracy: 0.1201 - val_loss: 2.3429 - val_accuracy: 0.1217\n",
            "\n",
            "Epoch 00018: val_accuracy did not improve from 0.14355\n",
            "Epoch 19/500\n",
            "10/10 [==============================] - 7s 530ms/step - loss: 2.0471 - accuracy: 0.1361 - val_loss: 2.3235 - val_accuracy: 0.1192\n",
            "\n",
            "Epoch 00019: val_accuracy did not improve from 0.14355\n",
            "Epoch 20/500\n",
            "10/10 [==============================] - 7s 534ms/step - loss: 2.0431 - accuracy: 0.1030 - val_loss: 2.3323 - val_accuracy: 0.1217\n",
            "\n",
            "Epoch 00020: val_accuracy did not improve from 0.14355\n",
            "Epoch 21/500\n",
            "10/10 [==============================] - 7s 537ms/step - loss: 2.0368 - accuracy: 0.1327 - val_loss: 2.3231 - val_accuracy: 0.1217\n",
            "\n",
            "Epoch 00021: val_accuracy did not improve from 0.14355\n",
            "Epoch 22/500\n",
            "10/10 [==============================] - 7s 533ms/step - loss: 2.0333 - accuracy: 0.1295 - val_loss: 2.2916 - val_accuracy: 0.1411\n",
            "\n",
            "Epoch 00022: val_accuracy did not improve from 0.14355\n",
            "Epoch 23/500\n",
            "10/10 [==============================] - 7s 536ms/step - loss: 2.0289 - accuracy: 0.1237 - val_loss: 2.2639 - val_accuracy: 0.1022\n",
            "\n",
            "Epoch 00023: val_accuracy did not improve from 0.14355\n",
            "Epoch 24/500\n",
            "10/10 [==============================] - 7s 534ms/step - loss: 2.0212 - accuracy: 0.1236 - val_loss: 2.2612 - val_accuracy: 0.1071\n",
            "\n",
            "Epoch 00024: val_accuracy did not improve from 0.14355\n",
            "Epoch 25/500\n",
            "10/10 [==============================] - 7s 538ms/step - loss: 2.0187 - accuracy: 0.1293 - val_loss: 2.2407 - val_accuracy: 0.0900\n",
            "\n",
            "Epoch 00025: val_accuracy did not improve from 0.14355\n",
            "Epoch 26/500\n",
            "10/10 [==============================] - 7s 542ms/step - loss: 2.0215 - accuracy: 0.1203 - val_loss: 2.2425 - val_accuracy: 0.0876\n",
            "\n",
            "Epoch 00026: val_accuracy did not improve from 0.14355\n",
            "Epoch 27/500\n",
            "10/10 [==============================] - 7s 540ms/step - loss: 2.0216 - accuracy: 0.1322 - val_loss: 2.2516 - val_accuracy: 0.0925\n",
            "\n",
            "Epoch 00027: val_accuracy did not improve from 0.14355\n",
            "Epoch 28/500\n",
            "10/10 [==============================] - 7s 538ms/step - loss: 2.0261 - accuracy: 0.1220 - val_loss: 2.2319 - val_accuracy: 0.0876\n",
            "\n",
            "Epoch 00028: val_accuracy did not improve from 0.14355\n",
            "Epoch 29/500\n",
            "10/10 [==============================] - 7s 538ms/step - loss: 2.0268 - accuracy: 0.1253 - val_loss: 2.2472 - val_accuracy: 0.0900\n",
            "\n",
            "Epoch 00029: val_accuracy did not improve from 0.14355\n",
            "Epoch 30/500\n",
            "10/10 [==============================] - 7s 538ms/step - loss: 2.0214 - accuracy: 0.1298 - val_loss: 2.2468 - val_accuracy: 0.0900\n",
            "\n",
            "Epoch 00030: val_accuracy did not improve from 0.14355\n",
            "Epoch 31/500\n",
            "10/10 [==============================] - 7s 537ms/step - loss: 2.0169 - accuracy: 0.1203 - val_loss: 2.1629 - val_accuracy: 0.0900\n",
            "\n",
            "Epoch 00031: val_accuracy did not improve from 0.14355\n",
            "Epoch 32/500\n",
            "10/10 [==============================] - 7s 535ms/step - loss: 2.0172 - accuracy: 0.1403 - val_loss: 2.1827 - val_accuracy: 0.0900\n",
            "\n",
            "Epoch 00032: val_accuracy did not improve from 0.14355\n",
            "Epoch 33/500\n",
            "10/10 [==============================] - 7s 537ms/step - loss: 2.0081 - accuracy: 0.1291 - val_loss: 2.1869 - val_accuracy: 0.0900\n",
            "\n",
            "Epoch 00033: val_accuracy did not improve from 0.14355\n",
            "Epoch 34/500\n",
            "10/10 [==============================] - 7s 539ms/step - loss: 2.0031 - accuracy: 0.1378 - val_loss: 2.2125 - val_accuracy: 0.0900\n",
            "\n",
            "Epoch 00034: val_accuracy did not improve from 0.14355\n",
            "Epoch 35/500\n",
            "10/10 [==============================] - 7s 538ms/step - loss: 1.9999 - accuracy: 0.1393 - val_loss: 2.2047 - val_accuracy: 0.0900\n",
            "\n",
            "Epoch 00035: val_accuracy did not improve from 0.14355\n",
            "Epoch 36/500\n",
            "10/10 [==============================] - 7s 542ms/step - loss: 1.9903 - accuracy: 0.1308 - val_loss: 2.2623 - val_accuracy: 0.0900\n",
            "\n",
            "Epoch 00036: val_accuracy did not improve from 0.14355\n",
            "Epoch 37/500\n",
            "10/10 [==============================] - 7s 536ms/step - loss: 1.9880 - accuracy: 0.1509 - val_loss: 2.2120 - val_accuracy: 0.0900\n",
            "\n",
            "Epoch 00037: val_accuracy did not improve from 0.14355\n",
            "Epoch 38/500\n",
            "10/10 [==============================] - 7s 537ms/step - loss: 1.9831 - accuracy: 0.1381 - val_loss: 2.2324 - val_accuracy: 0.0900\n",
            "\n",
            "Epoch 00038: val_accuracy did not improve from 0.14355\n",
            "Epoch 39/500\n",
            "10/10 [==============================] - 7s 536ms/step - loss: 1.9830 - accuracy: 0.1233 - val_loss: 2.2111 - val_accuracy: 0.0900\n",
            "\n",
            "Epoch 00039: val_accuracy did not improve from 0.14355\n",
            "Epoch 40/500\n",
            "10/10 [==============================] - 7s 546ms/step - loss: 1.9837 - accuracy: 0.1481 - val_loss: 2.2162 - val_accuracy: 0.0900\n",
            "\n",
            "Epoch 00040: val_accuracy did not improve from 0.14355\n",
            "Epoch 41/500\n",
            "10/10 [==============================] - 7s 539ms/step - loss: 1.9891 - accuracy: 0.1334 - val_loss: 2.1942 - val_accuracy: 0.0900\n",
            "\n",
            "Epoch 00041: val_accuracy did not improve from 0.14355\n",
            "Epoch 42/500\n",
            "10/10 [==============================] - 7s 540ms/step - loss: 1.9812 - accuracy: 0.1396 - val_loss: 2.1436 - val_accuracy: 0.0900\n",
            "\n",
            "Epoch 00042: val_accuracy did not improve from 0.14355\n",
            "Epoch 43/500\n",
            "10/10 [==============================] - 7s 541ms/step - loss: 1.9648 - accuracy: 0.1413 - val_loss: 2.1636 - val_accuracy: 0.0900\n",
            "\n",
            "Epoch 00043: val_accuracy did not improve from 0.14355\n",
            "Epoch 44/500\n",
            "10/10 [==============================] - 7s 546ms/step - loss: 1.9511 - accuracy: 0.1413 - val_loss: 2.1466 - val_accuracy: 0.0900\n",
            "\n",
            "Epoch 00044: val_accuracy did not improve from 0.14355\n",
            "Epoch 45/500\n",
            "10/10 [==============================] - 7s 548ms/step - loss: 1.9472 - accuracy: 0.1457 - val_loss: 2.1457 - val_accuracy: 0.0925\n",
            "\n",
            "Epoch 00045: val_accuracy did not improve from 0.14355\n",
            "Epoch 46/500\n",
            "10/10 [==============================] - 7s 543ms/step - loss: 1.9506 - accuracy: 0.1450 - val_loss: 2.1627 - val_accuracy: 0.0900\n",
            "\n",
            "Epoch 00046: val_accuracy did not improve from 0.14355\n",
            "Epoch 47/500\n",
            "10/10 [==============================] - 7s 540ms/step - loss: 1.9486 - accuracy: 0.1409 - val_loss: 2.1254 - val_accuracy: 0.0925\n",
            "\n",
            "Epoch 00047: val_accuracy did not improve from 0.14355\n",
            "Epoch 48/500\n",
            "10/10 [==============================] - 7s 540ms/step - loss: 1.9405 - accuracy: 0.1456 - val_loss: 2.1177 - val_accuracy: 0.0925\n",
            "\n",
            "Epoch 00048: val_accuracy did not improve from 0.14355\n",
            "Epoch 49/500\n",
            "10/10 [==============================] - 7s 533ms/step - loss: 1.9364 - accuracy: 0.1435 - val_loss: 2.1266 - val_accuracy: 0.0900\n",
            "\n",
            "Epoch 00049: val_accuracy did not improve from 0.14355\n",
            "Epoch 50/500\n",
            "10/10 [==============================] - 7s 536ms/step - loss: 1.9359 - accuracy: 0.1408 - val_loss: 2.1208 - val_accuracy: 0.0925\n",
            "\n",
            "Epoch 00050: val_accuracy did not improve from 0.14355\n",
            "Epoch 51/500\n",
            "10/10 [==============================] - 7s 533ms/step - loss: 1.9253 - accuracy: 0.1514 - val_loss: 2.1509 - val_accuracy: 0.1046\n",
            "\n",
            "Epoch 00051: val_accuracy did not improve from 0.14355\n",
            "Epoch 52/500\n",
            "10/10 [==============================] - 7s 537ms/step - loss: 1.9227 - accuracy: 0.1450 - val_loss: 2.1364 - val_accuracy: 0.0925\n",
            "\n",
            "Epoch 00052: val_accuracy did not improve from 0.14355\n",
            "Epoch 53/500\n",
            "10/10 [==============================] - 7s 538ms/step - loss: 1.9263 - accuracy: 0.1365 - val_loss: 2.1222 - val_accuracy: 0.1022\n",
            "\n",
            "Epoch 00053: val_accuracy did not improve from 0.14355\n",
            "Epoch 54/500\n",
            "10/10 [==============================] - 7s 542ms/step - loss: 1.9241 - accuracy: 0.1410 - val_loss: 2.1385 - val_accuracy: 0.0900\n",
            "\n",
            "Epoch 00054: val_accuracy did not improve from 0.14355\n",
            "Epoch 55/500\n",
            "10/10 [==============================] - 7s 546ms/step - loss: 1.9253 - accuracy: 0.1357 - val_loss: 2.1586 - val_accuracy: 0.0925\n",
            "\n",
            "Epoch 00055: val_accuracy did not improve from 0.14355\n",
            "Epoch 56/500\n",
            "10/10 [==============================] - 7s 540ms/step - loss: 1.9233 - accuracy: 0.1589 - val_loss: 2.1237 - val_accuracy: 0.0973\n",
            "\n",
            "Epoch 00056: val_accuracy did not improve from 0.14355\n",
            "Epoch 57/500\n",
            "10/10 [==============================] - 7s 541ms/step - loss: 1.9261 - accuracy: 0.1444 - val_loss: 2.1561 - val_accuracy: 0.1119\n",
            "\n",
            "Epoch 00057: val_accuracy did not improve from 0.14355\n",
            "Epoch 58/500\n",
            "10/10 [==============================] - 7s 542ms/step - loss: 1.9224 - accuracy: 0.1301 - val_loss: 2.1191 - val_accuracy: 0.1095\n",
            "\n",
            "Epoch 00058: val_accuracy did not improve from 0.14355\n",
            "Epoch 59/500\n",
            "10/10 [==============================] - 7s 540ms/step - loss: 1.9234 - accuracy: 0.1240 - val_loss: 2.1384 - val_accuracy: 0.1071\n",
            "\n",
            "Epoch 00059: val_accuracy did not improve from 0.14355\n",
            "Epoch 60/500\n",
            "10/10 [==============================] - 7s 541ms/step - loss: 1.9155 - accuracy: 0.1292 - val_loss: 2.1266 - val_accuracy: 0.0998\n",
            "\n",
            "Epoch 00060: val_accuracy did not improve from 0.14355\n",
            "Epoch 61/500\n",
            "10/10 [==============================] - 7s 545ms/step - loss: 1.9135 - accuracy: 0.1286 - val_loss: 2.1424 - val_accuracy: 0.1071\n",
            "\n",
            "Epoch 00061: val_accuracy did not improve from 0.14355\n",
            "Epoch 62/500\n",
            "10/10 [==============================] - 7s 544ms/step - loss: 1.9225 - accuracy: 0.1321 - val_loss: 2.1896 - val_accuracy: 0.1338\n",
            "\n",
            "Epoch 00062: val_accuracy did not improve from 0.14355\n",
            "Epoch 63/500\n",
            "10/10 [==============================] - 7s 542ms/step - loss: 1.9214 - accuracy: 0.1543 - val_loss: 2.1449 - val_accuracy: 0.1217\n",
            "\n",
            "Epoch 00063: val_accuracy did not improve from 0.14355\n",
            "Epoch 64/500\n",
            "10/10 [==============================] - 7s 543ms/step - loss: 1.9178 - accuracy: 0.1295 - val_loss: 2.1580 - val_accuracy: 0.0925\n",
            "\n",
            "Epoch 00064: val_accuracy did not improve from 0.14355\n",
            "Epoch 65/500\n",
            "10/10 [==============================] - 7s 544ms/step - loss: 1.9190 - accuracy: 0.1413 - val_loss: 2.1281 - val_accuracy: 0.0925\n",
            "\n",
            "Epoch 00065: val_accuracy did not improve from 0.14355\n",
            "Epoch 66/500\n",
            "10/10 [==============================] - 7s 542ms/step - loss: 1.9229 - accuracy: 0.1342 - val_loss: 2.1366 - val_accuracy: 0.0949\n",
            "\n",
            "Epoch 00066: val_accuracy did not improve from 0.14355\n",
            "Epoch 67/500\n",
            "10/10 [==============================] - 7s 543ms/step - loss: 1.9164 - accuracy: 0.1456 - val_loss: 2.1738 - val_accuracy: 0.1046\n",
            "\n",
            "Epoch 00067: val_accuracy did not improve from 0.14355\n",
            "Epoch 00067: early stopping\n"
          ],
          "name": "stdout"
        }
      ]
    },
    {
      "cell_type": "code",
      "metadata": {
        "id": "xZneQUr62WBu",
        "colab": {
          "base_uri": "https://localhost:8080/"
        },
        "outputId": "39f2e468-a9c1-4b89-c7a4-c6a68dfe42f0"
      },
      "source": [
        "test_ds = tf.keras.preprocessing.image_dataset_from_directory(\r\n",
        "  data_dir,\r\n",
        "  validation_split=0.1,\r\n",
        "  subset=\"validation\",\r\n",
        "  seed=123,\r\n",
        "  image_size=(img_height, img_width),\r\n",
        "  batch_size=batch_size,\r\n",
        "  shuffle=\"true\",\r\n",
        "  color_mode=\"grayscale\")\r\n",
        "\r\n",
        "model.load_weights(\"weights.best.hdf5\")\r\n",
        "score = model.evaluate(test_ds)\r\n",
        "print('Test score: ', score[0])\r\n",
        "print('Test accuracy: ', score[1])"
      ],
      "execution_count": null,
      "outputs": [
        {
          "output_type": "stream",
          "text": [
            "Found 2059 files belonging to 10 classes.\n",
            "Using 205 files for validation.\n",
            "2/2 [==============================] - 3s 3s/step - loss: 2.4024 - accuracy: 0.1366\n",
            "Test score:  2.4023547172546387\n",
            "Test accuracy:  0.13658536970615387\n"
          ],
          "name": "stdout"
        }
      ]
    },
    {
      "cell_type": "code",
      "metadata": {
        "colab": {
          "base_uri": "https://localhost:8080/"
        },
        "id": "kvFMVKLb6OEz",
        "outputId": "fa66b4c4-ba6e-40e0-8a92-6b86b0b71be0"
      },
      "source": [
        "model.summary()"
      ],
      "execution_count": null,
      "outputs": [
        {
          "output_type": "stream",
          "text": [
            "Model: \"sequential\"\n",
            "_________________________________________________________________\n",
            "Layer (type)                 Output Shape              Param #   \n",
            "=================================================================\n",
            "batch_normalization_8 (Batch (None, 100, 100, 1)       4         \n",
            "_________________________________________________________________\n",
            "conv2d_11 (Conv2D)           (None, 100, 100, 64)      128       \n",
            "_________________________________________________________________\n",
            "conv2d_12 (Conv2D)           (None, 98, 98, 128)       73856     \n",
            "_________________________________________________________________\n",
            "max_pooling2d_2 (MaxPooling2 (None, 24, 24, 128)       0         \n",
            "_________________________________________________________________\n",
            "batch_normalization_9 (Batch (None, 24, 24, 128)       512       \n",
            "_________________________________________________________________\n",
            "conv2d_13 (Conv2D)           (None, 24, 24, 256)       33024     \n",
            "_________________________________________________________________\n",
            "batch_normalization_10 (Batc (None, 24, 24, 256)       1024      \n",
            "_________________________________________________________________\n",
            "conv2d_14 (Conv2D)           (None, 24, 24, 512)       131584    \n",
            "_________________________________________________________________\n",
            "conv2d_15 (Conv2D)           (None, 22, 22, 1024)      4719616   \n",
            "_________________________________________________________________\n",
            "batch_normalization_11 (Batc (None, 22, 22, 1024)      4096      \n",
            "_________________________________________________________________\n",
            "conv2d_16 (Conv2D)           (None, 22, 22, 10)        10250     \n",
            "_________________________________________________________________\n",
            "global_max_pooling2d (Global (None, 10)                0         \n",
            "=================================================================\n",
            "Total params: 4,974,094\n",
            "Trainable params: 4,971,276\n",
            "Non-trainable params: 2,818\n",
            "_________________________________________________________________\n"
          ],
          "name": "stdout"
        }
      ]
    },
    {
      "cell_type": "code",
      "metadata": {
        "colab": {
          "base_uri": "https://localhost:8080/"
        },
        "id": "dGece2yt89M0",
        "outputId": "56198e9f-4fa5-497d-ebfc-856bf904aec1"
      },
      "source": [
        "from sklearn import metrics\r\n",
        "from sklearn.metrics import plot_confusion_matrix\r\n",
        "import matplotlib.pyplot as plt\r\n",
        "\r\n",
        "predictions = np.array([])\r\n",
        "true_labels =  np.array([])\r\n",
        "for x, y in test_ds:\r\n",
        "  predictions = np.concatenate([predictions, model.predict_classes(x)])\r\n",
        "  true_labels = np.concatenate([true_labels, y.numpy()])\r\n",
        "\r\n",
        "precisions, recall, f1_score, samples_per_class = metrics.precision_recall_fscore_support(true_labels, predictions,labels = [0,1,2,3,4,5,6,7,8,9])\r\n",
        "confusion_matrix = metrics.confusion_matrix(true_labels, predictions)\r\n",
        "print('Precision :',precisions,'\\nRecall :',recall,'\\nF1_Score :',f1_score,'\\nSamples per class :',samples_per_class)"
      ],
      "execution_count": null,
      "outputs": [
        {
          "output_type": "stream",
          "text": [
            "/usr/local/lib/python3.7/dist-packages/tensorflow/python/keras/engine/sequential.py:450: UserWarning: `model.predict_classes()` is deprecated and will be removed after 2021-01-01. Please use instead:* `np.argmax(model.predict(x), axis=-1)`,   if your model does multi-class classification   (e.g. if it uses a `softmax` last-layer activation).* `(model.predict(x) > 0.5).astype(\"int32\")`,   if your model does binary classification   (e.g. if it uses a `sigmoid` last-layer activation).\n",
            "  warnings.warn('`model.predict_classes()` is deprecated and '\n"
          ],
          "name": "stderr"
        },
        {
          "output_type": "stream",
          "text": [
            "Precision : [0.         0.         0.13793103 0.         0.         0.\n",
            " 0.         0.         0.         0.        ] \n",
            "Recall : [0. 0. 1. 0. 0. 0. 0. 0. 0. 0.] \n",
            "F1_Score : [0.         0.         0.24242424 0.         0.         0.\n",
            " 0.         0.         0.         0.        ] \n",
            "Samples per class : [24 17 28 12 18 22 26 16 22 20]\n"
          ],
          "name": "stdout"
        },
        {
          "output_type": "stream",
          "text": [
            "/usr/local/lib/python3.7/dist-packages/sklearn/metrics/_classification.py:1272: UndefinedMetricWarning: Precision and F-score are ill-defined and being set to 0.0 in labels with no predicted samples. Use `zero_division` parameter to control this behavior.\n",
            "  _warn_prf(average, modifier, msg_start, len(result))\n"
          ],
          "name": "stderr"
        }
      ]
    },
    {
      "cell_type": "code",
      "metadata": {
        "colab": {
          "base_uri": "https://localhost:8080/",
          "height": 467
        },
        "id": "fhk36Jsd9Lr4",
        "outputId": "a9cdc505-fda6-495e-ee1e-f6f1837ed911"
      },
      "source": [
        "target_names=['0','1','2','3','4','5','6','7','8','9']\r\n",
        "# plot_confusion_matrix(confusion_matrix, target_names, title='Confusion matrix', cmap=None, normalize=None)\r\n",
        "accuracy = np.trace(confusion_matrix) / np.sum(confusion_matrix).astype('float')\r\n",
        "misclass = 1 - accuracy\r\n",
        "cmap = plt.get_cmap('Blues')\r\n",
        "\r\n",
        "plt.figure(figsize=(8, 6))\r\n",
        "plt.imshow(confusion_matrix, interpolation='nearest', cmap=cmap)\r\n",
        "plt.title('Confusion Matrix')\r\n",
        "plt.colorbar()\r\n",
        "\r\n",
        "tick_marks = np.arange(len(target_names))\r\n",
        "plt.xticks(tick_marks, target_names, rotation=45)\r\n",
        "plt.yticks(tick_marks, target_names)\r\n",
        "\r\n",
        "thresh = confusion_matrix.max() / 2\r\n",
        "for i, j in itertools.product(range(confusion_matrix.shape[0]), range(confusion_matrix.shape[1])):\r\n",
        "    plt.text(j, i, \"{:,}\".format(confusion_matrix[i, j]),\r\n",
        "              horizontalalignment=\"center\",\r\n",
        "              color=\"white\" if confusion_matrix[i, j] > thresh else \"black\")\r\n",
        "\r\n",
        "plt.tight_layout()\r\n",
        "plt.ylabel('Labels')\r\n",
        "plt.xlabel('Predicted Labels\\naccuracy: {:0.4f} - misclass: {:0.4f}'.format(accuracy, misclass))\r\n",
        "plt.show()"
      ],
      "execution_count": null,
      "outputs": [
        {
          "output_type": "display_data",
          "data": {
            "image/png": "[encoded data removed]",
            "text/plain": [
              "<Figure size 576x432 with 2 Axes>"
            ]
          },
          "metadata": {
            "tags": [],
            "needs_background": "light"
          }
        }
      ]
    },
    {
      "cell_type": "code",
      "metadata": {
        "colab": {
          "base_uri": "https://localhost:8080/",
          "height": 295
        },
        "id": "YxhkvyrB9VNg",
        "outputId": "f29afe48-1788-4cde-c523-a78af73fa8a5"
      },
      "source": [
        "epochs = range(0,len(history.history['loss']))\r\n",
        "loss_train = history.history['loss']\r\n",
        "loss_val   = history.history['val_loss']\r\n",
        "plt.plot(epochs, loss_train, 'g', label='Training loss')\r\n",
        "plt.plot(epochs, loss_val, 'r', label='Validation loss')\r\n",
        "plt.title('Training/Validation losses')\r\n",
        "plt.xlabel('Epoch')\r\n",
        "plt.ylabel('Loss')\r\n",
        "plt.legend()\r\n",
        "plt.show()"
      ],
      "execution_count": null,
      "outputs": [
        {
          "output_type": "display_data",
          "data": {
            "image/png": "[encoded data removed]",
            "text/plain": [
              "<Figure size 432x288 with 1 Axes>"
            ]
          },
          "metadata": {
            "tags": [],
            "needs_background": "light"
          }
        }
      ]
    },
    {
      "cell_type": "code",
      "metadata": {
        "colab": {
          "base_uri": "https://localhost:8080/",
          "height": 295
        },
        "id": "MMBBs22o603N",
        "outputId": "1fcc3077-59cf-47b8-cebd-ed13570f76c0"
      },
      "source": [
        "epochs = range(0,len(history.history['accuracy']))\r\n",
        "acc_train = history.history['accuracy']\r\n",
        "acc_val   = history.history['val_accuracy']\r\n",
        "plt.plot(epochs, acc_train, 'g', label='Training accuracy')\r\n",
        "plt.plot(epochs, acc_val, 'r', label='Validation accuracy')\r\n",
        "plt.title('Training/Validation accuracy')\r\n",
        "plt.xlabel('Epoch')\r\n",
        "plt.ylabel('accuracy')\r\n",
        "plt.legend()\r\n",
        "plt.show()"
      ],
      "execution_count": null,
      "outputs": [
        {
          "output_type": "display_data",
          "data": {
            "image/png": "[encoded data removed]",
            "text/plain": [
              "<Figure size 432x288 with 1 Axes>"
            ]
          },
          "metadata": {
            "tags": [],
            "needs_background": "light"
          }
        }
      ]
    }
  ]
}